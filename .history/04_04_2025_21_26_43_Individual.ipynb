{
 "cells": [
  {
   "cell_type": "markdown",
   "id": "469bb69b-510b-402a-991e-528d00b180d7",
   "metadata": {},
   "source": [
    "<h1>Exploring Minecraft Players Data: Can played_hours, and age predict the subscribe variable (if a player subscribes to the newsletter or not) in players dataset?</h1>"
   ]
  },
  {
   "cell_type": "markdown",
   "id": "2e8e7074-098b-4c3e-bb64-7d9d9783e334",
   "metadata": {},
   "source": [
    "## Introduction\n",
    "\n",
    "In online gaming communities, player engagement goes beyond just time spent in-game. Some players actively seek deeper involvement, such as following updates, engaging with their communities, or subscribing to newsletters. Others log in, play, and leave without further interaction, remaining passive participants. Understanding what drives that deeper level of engagement can help researchers make better decisions about outreach and recruitment.\n",
    "\n",
    "A UBC Computer Science research group, led by Frank Wood, operates a Minecraft research server that collects detailed player activity data. The dataset includes two files:\n",
    "- `players.csv`: A list of all unique players, including data about each player.\n",
    "- `session.csv`: A list of individual play sessions by each player, including data about the session.\n",
    "\n",
    "This project examines whether **played hours** and **age** predict a player’s likelihood of subscribing to the newsletter. Are younger players more likely to stay connected? Does spending more time in-game mean someone is more engaged overall? By analyzing data from `players.csv`, we aim to uncover patterns that provide insight into player behavior and long-term involvement.\n",
    "\n",
    "The dataset `players.csv` contains 7 variables with 196 observations:\n",
    "\n",
    "| Variable      | Description                                                                 |\n",
    "|---------------|-----------------------------------------------------------------------------|\n",
    "| experience    | Player's experience level (e.g., beginner, intermediate)                   |\n",
    "| subscribe     | Whether the player is subscribed (`TRUE`/`FALSE`)                          |\n",
    "| hashedEmail   | An anonymized player identifier                                             |\n",
    "| played_hours  | Total hours the player has played                                           |\n",
    "| name          | Player's name (may not be unique)                                           |\n",
    "| gender        | Gender identity of the player                                               |\n",
    "| Age           | Player’s age                                                                |\n",
    "\n",
    "We chose `played_hours` and `Age` to predict `subscribe` because they represent key behavioral and demographic factors that likely influence a player's decision to subscribe. `played_hours` reflects how invested a player is with the game, and those who spend more time playing may be more inclined to subscribe. `Age`, on the other hand, can affect spending habits and preferences, as different age groups may have varying levels of disposable income or subscription behavior.\n"
   ]
  },
  {
   "cell_type": "markdown",
   "id": "de88b398-ca7c-4dbb-8074-26e29fd8c6ec",
   "metadata": {},
   "source": [
    "Load data: We will only use the players dataset in this analysis!"
   ]
  },
  {
   "cell_type": "code",
   "execution_count": null,
   "id": "3c025391-0091-4ae1-84aa-0ae6c4ed9f14",
   "metadata": {},
   "outputs": [],
   "source": [
    "library(tidyverse)\n",
    "#test monkey\n",
    "players_data <- read_csv(\"https://raw.githubusercontent.com/emmah47/dsci100-project/refs/heads/main/players.csv\", show_col_types = FALSE)"
   ]
  },
  {
   "cell_type": "code",
   "execution_count": null,
   "id": "8c6bf24b-80b3-465e-a412-657a61ea34eb",
   "metadata": {},
   "outputs": [],
   "source": [
    "head(players_data)"
   ]
  },
  {
   "cell_type": "code",
   "execution_count": null,
   "id": "d04dbcef-2fb5-4b06-947e-102d5547db39",
   "metadata": {},
   "outputs": [],
   "source": [
    "summary(players_data)"
   ]
  },
  {
   "cell_type": "markdown",
   "id": "d7564b7b-e6e9-4300-bea7-f9ce9a50070e",
   "metadata": {},
   "source": [
    "**Data Wrangling**"
   ]
  },
  {
   "cell_type": "markdown",
   "id": "9e9067d1-7bcc-454a-9ed0-5f1d99639bfa",
   "metadata": {},
   "source": [
    "We can see that there are 2 NA's in Age, we will remove those observations."
   ]
  },
  {
   "cell_type": "code",
   "execution_count": null,
   "id": "be5bae6b-b0dc-4a69-9f0f-7684578c7cdd",
   "metadata": {},
   "outputs": [],
   "source": [
    "clean_data <- filter(players_data, !is.na(Age))\n",
    "summary(clean_data)"
   ]
  },
  {
   "cell_type": "markdown",
   "id": "a2e6d27f-fe1f-4e76-8725-e42aaae7be34",
   "metadata": {},
   "source": [
    "<br>"
   ]
  },
  {
   "cell_type": "markdown",
   "id": "7cd1fa3e-38e9-4ef4-b660-868a8a737b9c",
   "metadata": {},
   "source": [
    "**Data Summary**"
   ]
  },
  {
   "cell_type": "markdown",
   "id": "94d99103-2c86-485f-b407-93127aff380c",
   "metadata": {},
   "source": [
    "categorical variables:"
   ]
  },
  {
   "cell_type": "code",
   "execution_count": null,
   "id": "1e4df8ed-19f7-4e6c-8bf4-a21ab4ec7835",
   "metadata": {},
   "outputs": [],
   "source": [
    "print(\"Player experience summary\")\n",
    "table(clean_data$experience)"
   ]
  },
  {
   "cell_type": "code",
   "execution_count": null,
   "id": "452a2b39-852e-4d93-8034-12275622ce91",
   "metadata": {},
   "outputs": [],
   "source": [
    "print(\"Player subscription summary\")\n",
    "table(clean_data$subscribe)"
   ]
  },
  {
   "cell_type": "code",
   "execution_count": null,
   "id": "afe2637a-8821-4b93-b7cd-a079683524cd",
   "metadata": {},
   "outputs": [],
   "source": [
    "print(\"Player gender summary\")\n",
    "table(clean_data$gender)"
   ]
  },
  {
   "cell_type": "markdown",
   "id": "c9931485-dcd3-4b7f-bd47-d85a60b879ab",
   "metadata": {},
   "source": []
  },
  {
   "cell_type": "markdown",
   "id": "6af68d61-20de-47a8-a79a-99bfdd73b39c",
   "metadata": {},
   "source": [
    "<br>"
   ]
  },
  {
   "cell_type": "markdown",
   "id": "ab8efb01-a2f9-437d-a38c-03bce0e2c82e",
   "metadata": {},
   "source": [
    "### Number of Observations:\n",
    "194\n",
    "\n",
    "### Number of Variables:\n",
    "7\n",
    "\n",
    "### Summary of numerical features: \n",
    "**Type**: played_hours and Age has type <dbl>, which is a numeric value that can have decimal points. <br>\n",
    "**Description**: played hours is the number of hours a player has played the game, age is the age of the player.\n",
    "| Column       | Min      | 1st Qu.  | Median  | Mean    | 3rd Qu.  | Max    | \n",
    "|-------------|---------|----------|---------|--------|----------|---------|\n",
    "| played_hours | 0.000  | 0.000    | 0.100   | 5.846  | 0.600    | 223.100 | \n",
    "| Age         | 8.00    | 17.00    | 19.00   | 20.52  | 22.00    | 50.00   | \n",
    "\n",
    "\n",
    "### Summary of categorical features: \n",
    "**Experience Summary** <br>\n",
    "**Type**: \\<chr>, a string<br>\n",
    "**Description**: the level of previous experience the player has.\n",
    "| Category  | Count |\n",
    "|-----------|-------|\n",
    "| Amateur   | 63    |\n",
    "| Beginner  | 35    |\n",
    "| Pro       | 14    |\n",
    "| Regular   | 36    |\n",
    "| Veteran   | 48    |\n",
    "\n",
    "**Subscription Summary**  <br>\n",
    "**Type**: \\<lgl>, true or false boolean value<br>\n",
    "**Description**: true if the player has subscribed to a game-related newsletter, false if not/\n",
    "| Subscribed | Count |\n",
    "|------------|-------|\n",
    "| FALSE      | 52    |\n",
    "| TRUE       | 144   |\n",
    "\n",
    "**Gender Summary**  <br>\n",
    "**Type**:  \\<chr>, a string<br>\n",
    "**Description**: the player's gender.\n",
    "| Gender               | Count |\n",
    "|----------------------|-------|\n",
    "| Agender             | 2     |\n",
    "| Female              | 37    |\n",
    "| Male                | 124   |\n",
    "| Non-binary          | 15    |\n",
    "| Other               | 1     |\n",
    "| Prefer not to say   | 11    |\n",
    "| Two-Spirited        | 6     |\n",
    "\n",
    "\n",
    "### How the data is collected:\n",
    "When users decide to sign up, they are asked to fill out an anonymized form where they choose a name from a list of availible names and also their experience, gender, age, and email. I'm guessing the played_hours is probably just collected by the researchers logging connections to the server, or some similar method."
   ]
  },
  {
   "cell_type": "markdown",
   "id": "82cbd12c-8ab2-443f-a132-2027ffc16837",
   "metadata": {},
   "source": [
    "**Visualiztions here**"
   ]
  },
  {
   "cell_type": "code",
   "execution_count": null,
   "id": "068cde52-3389-4569-aab8-53ecc762be5f",
   "metadata": {},
   "outputs": [],
   "source": [
    "sub_proportions <- players_train |>\n",
    "                      group_by(subscribe) |>\n",
    "                      summarize(n = n()) |>\n",
    "                      mutate(percent = 100*n/nrow(players_train))\n",
    "\n",
    "sub_proportions"
   ]
  },
  {
   "cell_type": "code",
   "execution_count": null,
   "id": "d9ebbc6e-9e08-4156-a317-a190e8b11f7b",
   "metadata": {},
   "outputs": [],
   "source": [
    "options(repr.plot.width=10, repr.plot.height=8)\n",
    "\n",
    "players_plot <- ggplot(players_data, aes(x = experience, y = played_hours, colour = subscribe)) +\n",
    "\tgeom_point() + \n",
    "\txlab(\"experience\") + \n",
    "\tylab(\"played hours\") +\n",
    "    labs(colour = \"subscribe\") +\n",
    "    theme_minimal() +\n",
    "    scale_fill_brewer(palette = \"Set3\") \n",
    "    # scale_y_log10() \n",
    "players_plot"
   ]
  },
  {
   "cell_type": "code",
   "execution_count": null,
   "id": "2fc90292-f52f-4e90-a1f1-d164f3d1d761",
   "metadata": {},
   "outputs": [],
   "source": []
  },
  {
   "cell_type": "code",
   "execution_count": null,
   "id": "62f1733f-be56-425f-a740-61ae47131162",
   "metadata": {},
   "outputs": [],
   "source": []
  },
  {
   "cell_type": "code",
   "execution_count": null,
   "id": "8db35c3d-b77c-47d6-8e55-a9ed706d644c",
   "metadata": {},
   "outputs": [],
   "source": []
  },
  {
   "cell_type": "code",
   "execution_count": null,
   "id": "027d2323-fde9-44a7-b2b6-665d7d97597d",
   "metadata": {},
   "outputs": [],
   "source": []
  },
  {
   "cell_type": "code",
   "execution_count": null,
   "id": "3626ab36-982c-4004-a870-c5bf029df259",
   "metadata": {},
   "outputs": [],
   "source": []
  },
  {
   "cell_type": "code",
   "execution_count": null,
   "id": "c74f3bf4-acf5-45e8-9998-df0a637073b1",
   "metadata": {},
   "outputs": [],
   "source": []
  },
  {
   "cell_type": "code",
   "execution_count": null,
   "id": "a4a486e3-9cfc-4e6b-9b71-d8ad100e6d4f",
   "metadata": {},
   "outputs": [],
   "source": []
  },
  {
   "cell_type": "code",
   "execution_count": null,
   "id": "a642d256-4fdb-4a50-993a-e3b50528a858",
   "metadata": {},
   "outputs": [],
   "source": []
  },
  {
   "cell_type": "markdown",
   "id": "a95a2d1a-1bf0-41d6-92db-b0ca20d8db96",
   "metadata": {},
   "source": [
    "**KNN**"
   ]
  },
  {
   "cell_type": "code",
   "execution_count": null,
   "id": "97e6f519-9e53-43e2-a1a8-8d355a96a077",
   "metadata": {},
   "outputs": [],
   "source": [
    "players_data <- clean_data |>\n",
    "    select(played_hours, experience, subscribe) |>\n",
    "    mutate(subscribe = as_factor(subscribe), \n",
    "           experience = recode(experience, Beginner = 1, Amateur = 2, Regular = 3, Pro = 4, Veteran = 5))\n",
    "    \n",
    "head(players_data)"
   ]
  },
  {
   "cell_type": "code",
   "execution_count": null,
   "id": "35188e5a-1f80-4131-bd87-9a5526788e5b",
   "metadata": {},
   "outputs": [],
   "source": [
    "set.seed(1)\n",
    "\n",
    "players_split <- initial_split(players_data, prop = 0.75, strata = subscribe)\n",
    "players_train <- training(players_split)\n",
    "players_test <- testing(players_split)"
   ]
  },
  {
   "cell_type": "code",
   "execution_count": null,
   "id": "1a6f2b81-db75-4f6a-b168-52589ba1d05a",
   "metadata": {},
   "outputs": [],
   "source": [
    "library(tidymodels)\n",
    "set.seed(1)\n",
    "\n",
    "\n",
    "knn_spec <- nearest_neighbor(weight_func = \"optimal\", neighbors = tune()) |>\n",
    "  set_engine(\"kknn\") |>\n",
    "  set_mode(\"classification\")\n",
    "knn_spec"
   ]
  },
  {
   "cell_type": "code",
   "execution_count": null,
   "id": "722b6704-91e8-4d18-b916-b4c3da91048e",
   "metadata": {},
   "outputs": [],
   "source": []
  },
  {
   "cell_type": "code",
   "execution_count": null,
   "id": "8d6f7cbc-1851-4be6-be4b-0484ff44f54b",
   "metadata": {},
   "outputs": [],
   "source": [
    "players_recipe <- recipe(subscribe ~ played_hours + experience, data = players_train) |>\n",
    "  step_scale(all_predictors()) |>\n",
    "  step_center(all_predictors())\n",
    "\n",
    "players_recipe"
   ]
  },
  {
   "cell_type": "code",
   "execution_count": null,
   "id": "793fdaca-b97c-458b-bd32-b19333c4f451",
   "metadata": {},
   "outputs": [],
   "source": [
    "set.seed(1)\n",
    "\n",
    "players_vfold <- vfold_cv(players_train, v = 5, strata = subscribe)\n",
    "grid_vals <- tibble(neighbors = seq(1, 50, 1))\n",
    "\n",
    "cv_results <- workflow() |>\n",
    "                  add_recipe(players_recipe) |>\n",
    "                  add_model(knn_spec) |>\n",
    "                  tune_grid(resamples = players_vfold, grid = grid_vals) \n",
    "\n",
    "vfold_metrics <- cv_results |>\n",
    "                  collect_metrics()\n",
    "\n",
    "accuracies <- vfold_metrics |>\n",
    "  filter(.metric == \"accuracy\")\n",
    "\n",
    "accuracies"
   ]
  },
  {
   "cell_type": "code",
   "execution_count": null,
   "id": "96963122-d13a-4974-93b1-724fe1943a37",
   "metadata": {},
   "outputs": [],
   "source": [
    "accuracy_vs_k <- ggplot(accuracies, aes(x = neighbors, y = mean)) +\n",
    "  geom_point() +\n",
    "  geom_line() +\n",
    "  labs(x = \"Neighbors\", y = \"Accuracy Estimate\") +\n",
    "  theme(text = element_text(size = 12))\n",
    "\n",
    "accuracy_vs_k"
   ]
  },
  {
   "cell_type": "code",
   "execution_count": null,
   "id": "5bf5bbf0-7161-43ad-86ee-e4fcd29720eb",
   "metadata": {},
   "outputs": [],
   "source": [
    "set.seed(1)\n",
    "\n",
    "best_k = 17\n",
    "\n",
    "knn_spec <- nearest_neighbor(weight_func = \"rectangular\", neighbors = best_k) |>\n",
    "  set_engine(\"kknn\") |>\n",
    "  set_mode(\"classification\")\n",
    "\n",
    "knn_fit <- workflow() |>\n",
    "  add_recipe(players_recipe) |>\n",
    "  add_model(knn_spec) |>\n",
    "  fit(data = players_train)\n",
    "\n",
    "knn_fit\n"
   ]
  },
  {
   "cell_type": "code",
   "execution_count": null,
   "id": "9076e8fb-ab6d-481d-a61e-4ced2fe49681",
   "metadata": {},
   "outputs": [],
   "source": [
    "players_test_predictions <- predict(logit_fit, players_test) |>\n",
    "  bind_cols(players_test)\n",
    "\n",
    "players_test_predictions |>\n",
    "  metrics(truth = subscribe, estimate = .pred_class) |>\n",
    "  filter(.metric == \"accuracy\")"
   ]
  },
  {
   "cell_type": "code",
   "execution_count": null,
   "id": "b9a9135a-f6d2-4481-8225-e8ec4b661c46",
   "metadata": {},
   "outputs": [],
   "source": [
    "players_test_predictions |>\n",
    "    precision(truth = subscribe, estimate = .pred_class, event_level=\"first\")"
   ]
  },
  {
   "cell_type": "code",
   "execution_count": null,
   "id": "3217c5e3-cbcb-4fb0-8e9f-173d58c3d870",
   "metadata": {},
   "outputs": [],
   "source": [
    "players_test_predictions |>\n",
    "    recall(truth = subscribe, estimate = .pred_class, event_level=\"first\")"
   ]
  },
  {
   "cell_type": "code",
   "execution_count": null,
   "id": "aa4f5e98-bd6e-4242-9f72-2d8128db72cf",
   "metadata": {},
   "outputs": [],
   "source": [
    "conf_mat <- players_test_predictions |>\n",
    "    conf_mat(truth = subscribe, estimate = .pred_class)\n",
    "conf_mat"
   ]
  },
  {
   "cell_type": "code",
   "execution_count": null,
   "id": "b76aee3c-9860-4ea2-814b-612102b0cb49",
   "metadata": {},
   "outputs": [],
   "source": []
  },
  {
   "cell_type": "code",
   "execution_count": null,
   "id": "5fc2eb0d-95de-4706-bd80-eaeb945cea0b",
   "metadata": {},
   "outputs": [],
   "source": []
  },
  {
   "cell_type": "code",
   "execution_count": null,
   "id": "5d701a26-d559-4d31-885c-151b3c87a1a4",
   "metadata": {},
   "outputs": [],
   "source": []
  },
  {
   "cell_type": "code",
   "execution_count": null,
   "id": "bb93611a-18bf-442b-bd56-6bb30616ab81",
   "metadata": {},
   "outputs": [],
   "source": []
  },
  {
   "cell_type": "code",
   "execution_count": null,
   "id": "1baed1f5-a55f-4cca-a613-3bdf3aa9ad29",
   "metadata": {},
   "outputs": [],
   "source": []
  },
  {
   "cell_type": "code",
   "execution_count": null,
   "id": "e7ea12ef-cf02-45bd-8544-599ee1e4c32a",
   "metadata": {},
   "outputs": [],
   "source": []
  },
  {
   "cell_type": "code",
   "execution_count": null,
   "id": "fdab82ec-46fa-4724-96f8-6af6c715f559",
   "metadata": {},
   "outputs": [],
   "source": [
    "logit_spec <- logistic_reg() |>\n",
    "    set_engine(\"glm\") |>\n",
    "    set_mode(\"classification\")\n",
    "\n",
    "grid_vals <- tibble(neighbors = seq(1, 10, 1))\n",
    "\n",
    "logit_fit <- workflow() |>\n",
    "              add_recipe(players_recipe) |>\n",
    "              add_model(logit_spec) |>\n",
    "              fit(data = players_train)\n",
    "\n",
    "logit_fit"
   ]
  },
  {
   "cell_type": "code",
   "execution_count": null,
   "id": "84a81794-d3de-49d6-a5db-c7372dfde501",
   "metadata": {},
   "outputs": [],
   "source": [
    "players_predictions <- predict(logit_fit, players_test) |>\n",
    "  bind_cols(players_test)\n",
    "\n",
    "players_predictions |>\n",
    "  metrics(truth = subscribe, estimate = .pred_class) |>\n",
    "  filter(.metric == \"accuracy\")"
   ]
  },
  {
   "cell_type": "code",
   "execution_count": null,
   "id": "61703ea5-9c03-4065-a487-ef016dcf7a0b",
   "metadata": {},
   "outputs": [],
   "source": [
    "players_test_predictions |>\n",
    "    precision(truth = subscribe, estimate = .pred_class, event_level=\"first\")"
   ]
  },
  {
   "cell_type": "code",
   "execution_count": null,
   "id": "ca8dbee1-1921-4472-bf91-ed1746c7a0ac",
   "metadata": {},
   "outputs": [],
   "source": [
    "players_test_predictions |>\n",
    "    recall(truth = subscribe, estimate = .pred_class, event_level=\"first\")"
   ]
  },
  {
   "cell_type": "code",
   "execution_count": null,
   "id": "f09fe462-b8b1-46c6-98a6-c01977ecada6",
   "metadata": {},
   "outputs": [],
   "source": [
    "conf_mat <- players_test_predictions |>\n",
    "    conf_mat(truth = subscribe, estimate = .pred_class)\n",
    "conf_mat"
   ]
  },
  {
   "cell_type": "code",
   "execution_count": null,
   "id": "85fef53c-aac3-4440-be73-a618dab203cb",
   "metadata": {},
   "outputs": [],
   "source": []
  },
  {
   "cell_type": "code",
   "execution_count": null,
   "id": "2196464a-f5cd-4b59-872d-b10127c1da80",
   "metadata": {},
   "outputs": [],
   "source": []
  },
  {
   "cell_type": "code",
   "execution_count": null,
   "id": "468d623b-dab3-442b-8e63-259b9bc583a7",
   "metadata": {},
   "outputs": [],
   "source": []
  },
  {
   "cell_type": "code",
   "execution_count": null,
   "id": "9b884c6e-aa19-4c68-b9c2-d689582722f0",
   "metadata": {},
   "outputs": [],
   "source": []
  },
  {
   "cell_type": "code",
   "execution_count": null,
   "id": "9f134cb2-5c02-4d9c-b45a-aa199db79537",
   "metadata": {},
   "outputs": [],
   "source": []
  },
  {
   "cell_type": "code",
   "execution_count": null,
   "id": "699b6e06-2e2d-4511-a564-9593fb35d2a8",
   "metadata": {},
   "outputs": [],
   "source": []
  },
  {
   "cell_type": "code",
   "execution_count": null,
   "id": "5bf4273a-052f-4483-8ae0-152223b2fb2c",
   "metadata": {},
   "outputs": [],
   "source": [
    "library(tidyverse)\n",
    "\n",
    "players_data <- read_csv(\"https://raw.githubusercontent.com/emmah47/dsci100-project/refs/heads/main/players.csv\", show_col_types = FALSE)\n",
    "session_data <- read_csv(\"https://raw.githubusercontent.com/emmah47/dsci100-project/refs/heads/main/sessions.csv\", show_col_types = FALSE)"
   ]
  },
  {
   "cell_type": "markdown",
   "id": "6fd3947d-f5ca-427c-ab7a-02dfae5bcb0b",
   "metadata": {},
   "source": [
    "<br><br>"
   ]
  },
  {
   "cell_type": "markdown",
   "id": "254c850c-27ad-4e2c-ac6d-fcd8bee51e05",
   "metadata": {},
   "source": [
    "<h2>1. Data Description</h2>"
   ]
  },
  {
   "cell_type": "markdown",
   "id": "2e27fdb9-8cdb-4510-9f00-1dac1315b97c",
   "metadata": {},
   "source": [
    "<h3>First, we take a look at the players data</h3>"
   ]
  },
  {
   "cell_type": "code",
   "execution_count": null,
   "id": "59128a7d-96d7-4b3c-8e22-7c6e0a3235e0",
   "metadata": {},
   "outputs": [],
   "source": [
    "head(players_data)"
   ]
  },
  {
   "cell_type": "markdown",
   "id": "7cab5dce-707e-465c-90d4-198f7642393c",
   "metadata": {},
   "source": [
    "<br>"
   ]
  },
  {
   "cell_type": "markdown",
   "id": "a1ddc3b1-943b-41cf-b015-234215e0b958",
   "metadata": {},
   "source": [
    "Below we find some summary statistics and distribution information for variables inside the dataset:"
   ]
  },
  {
   "cell_type": "code",
   "execution_count": null,
   "id": "b519386b-b672-4c39-8bd3-a2750884d06d",
   "metadata": {},
   "outputs": [],
   "source": [
    "summary(players_data)"
   ]
  },
  {
   "cell_type": "code",
   "execution_count": null,
   "id": "2dbbed70-bfa6-4288-b46f-8ffd944d7339",
   "metadata": {},
   "outputs": [],
   "source": [
    "print(\"Player experience summary\")\n",
    "table(players_data$experience)"
   ]
  },
  {
   "cell_type": "code",
   "execution_count": null,
   "id": "205c9b08-6176-49f9-8d39-9ee672fb82d4",
   "metadata": {},
   "outputs": [],
   "source": [
    "print(\"Player subscription summary\")\n",
    "table(players_data$subscribe)"
   ]
  },
  {
   "cell_type": "code",
   "execution_count": null,
   "id": "971dc5f6-301c-472a-a5ee-238a64fb4138",
   "metadata": {},
   "outputs": [],
   "source": [
    "print(\"Player gender summary\")\n",
    "table(players_data$gender)"
   ]
  },
  {
   "cell_type": "code",
   "execution_count": null,
   "id": "cbc6d34f-967c-472a-a19e-63aaed822b54",
   "metadata": {},
   "outputs": [],
   "source": [
    "# finding rows with missing values\n",
    "players_data[!complete.cases(players_data), ]"
   ]
  },
  {
   "cell_type": "markdown",
   "id": "5a210bd2-27f5-497b-ab44-0ee5417ac860",
   "metadata": {},
   "source": [
    "### Number of Observations:\n",
    "196\n",
    "\n",
    "### Number of Variables:\n",
    "7\n",
    "\n",
    "### Summary of numerical features: \n",
    "**Type**: played_hours and Age has type <dbl>, which is a numeric value that can have decimal points. <br>\n",
    "**Description**: played hours is the number of hours a player has played the game, age is the age of the player.\n",
    "| Column       | Min      | 1st Qu.  | Median  | Mean    | 3rd Qu.  | Max     | NA Count |\n",
    "|-------------|---------|----------|---------|--------|----------|---------|----------|\n",
    "| played_hours | 0.000  | 0.000    | 0.100   | 5.846  | 0.600    | 223.100 | 0        |\n",
    "| Age         | 8.00    | 17.00    | 19.00   | 20.52  | 22.00    | 50.00   | 2        |\n",
    "\n",
    "\n",
    "### Summary of categorical features: \n",
    "**Experience Summary** <br>\n",
    "**Type**: \\<chr>, a string<br>\n",
    "**Description**: the level of previous experience the player has.\n",
    "| Category  | Count |\n",
    "|-----------|-------|\n",
    "| Amateur   | 63    |\n",
    "| Beginner  | 35    |\n",
    "| Pro       | 14    |\n",
    "| Regular   | 36    |\n",
    "| Veteran   | 48    |\n",
    "\n",
    "**Subscription Summary**  <br>\n",
    "**Type**: \\<lgl>, true or false boolean value<br>\n",
    "**Description**: true if the player has subscribed to a game-related newsletter, false if not/\n",
    "| Subscribed | Count |\n",
    "|------------|-------|\n",
    "| FALSE      | 52    |\n",
    "| TRUE       | 144   |\n",
    "\n",
    "**Gender Summary**  <br>\n",
    "**Type**:  \\<chr>, a string<br>\n",
    "**Description**: the player's gender.\n",
    "| Gender               | Count |\n",
    "|----------------------|-------|\n",
    "| Agender             | 2     |\n",
    "| Female              | 37    |\n",
    "| Male                | 124   |\n",
    "| Non-binary          | 15    |\n",
    "| Other               | 1     |\n",
    "| Prefer not to say   | 11    |\n",
    "| Two-Spirited        | 6     |\n",
    "\n",
    "\n",
    "### Issues with the data:\n",
    "We have two observations that are missing the \"age\" feature. Another potential issue is that the dataset is very small (196 records), so it may be less representative of the entire population compared to if we had a larget dataset.\n",
    "\n",
    "### How the data is collected:\n",
    "When users decide to sign up, they are asked to fill out an anonymized form where they choose a name from a list of availible names and also their experience, gender, age, and email. I'm guessing the played_hours is probably just collected by the researchers logging connections to the server, or some similar method."
   ]
  },
  {
   "cell_type": "markdown",
   "id": "27a68a61-7893-4a42-ac56-e31041dabb55",
   "metadata": {},
   "source": [
    "<br><br>"
   ]
  },
  {
   "cell_type": "markdown",
   "id": "7d7fc2d3-2d83-41a4-a6f9-ec0672dd28da",
   "metadata": {},
   "source": [
    "<h3>Now we can do the same analysis on session data:</h3>"
   ]
  },
  {
   "cell_type": "code",
   "execution_count": null,
   "id": "b85e7441-1ed4-47eb-aaaf-aeff7ef06b49",
   "metadata": {},
   "outputs": [],
   "source": [
    "head(session_data)"
   ]
  },
  {
   "cell_type": "code",
   "execution_count": null,
   "id": "b912488d-027c-4976-b948-a7800fdc908d",
   "metadata": {},
   "outputs": [],
   "source": [
    "summary(session_data)"
   ]
  },
  {
   "cell_type": "code",
   "execution_count": null,
   "id": "30e761fb-bfea-45f3-a275-b4c45a186d73",
   "metadata": {},
   "outputs": [],
   "source": [
    "# finding rows with missing values\n",
    "session_data[!complete.cases(session_data), ]"
   ]
  },
  {
   "cell_type": "markdown",
   "id": "e1ac89a1-09df-456f-ad72-b81d69f04eeb",
   "metadata": {},
   "source": [
    "### Number of Observations:\n",
    "1535\n",
    "\n",
    "### Number of Variables:\n",
    "5\n",
    "\n",
    "### Summary of numerical features: \n",
    "**original_start_time**\n",
    "**Type**: <dbl>, which is a numeric value that can have decimal points. <br>\n",
    "**Description**:  session start time timestamps in milliseconds since the Unix epoch January 1, 1970 (UTC)\n",
    "| Statistic  | Value        |\n",
    "|------------|-------------|\n",
    "| Min        | 1.712e+12   |\n",
    "| 1st Quartile | 1.716e+12   |\n",
    "| Median     | 1.719e+12   |\n",
    "| Mean       | 1.719e+12   |\n",
    "| 3rd Quartile | 1.722e+12   |\n",
    "| Max        | 1.727e+12   |\n",
    "| NA's       | 0          |\n",
    "\n",
    "\n",
    "**original_end_time**\n",
    "**Type**: <dbl>, which is a numeric value that can have decimal points. <br>\n",
    "**Description**:  session end time timestamps in milliseconds since the Unix epoch January 1, 1970 (UTC)\n",
    "| Statistic  | Value        |\n",
    "|------------|-------------|\n",
    "| Min        | 1.712e+12   |\n",
    "| 1st Quartile | 1.716e+12   |\n",
    "| Median     | 1.719e+12   |\n",
    "| Mean       | 1.719e+12   |\n",
    "| 3rd Quartile | 1.722e+12   |\n",
    "| Max        | 1.727e+12   |\n",
    "| NA's       | 2           |\n",
    "\n",
    "\n",
    "\n",
    "### Issues with the data:\n",
    "We have two observations that are missing the end_time and original_end_time feature. The data is also untidy, there are both dates (with day, month, year) and times in the start_time and end_time which should be seperated.\n",
    "\n",
    "### How the data is collected:\n",
    "This data is collected by recording user's play session lengths."
   ]
  },
  {
   "cell_type": "markdown",
   "id": "c6da5e79-38f9-4123-8b85-0e5ee64e26d8",
   "metadata": {},
   "source": [
    "<br><br>"
   ]
  },
  {
   "cell_type": "markdown",
   "id": "b8ddb18b-13eb-4d7a-95a5-1638a78e1ee7",
   "metadata": {},
   "source": [
    "<h2>2. Questions</h2>"
   ]
  },
  {
   "cell_type": "markdown",
   "id": "c185aaf3-9699-4954-99db-07e8aa046865",
   "metadata": {},
   "source": [
    "**Broad question**: Question 1: What player characteristics and behaviours are most predictive of subscribing to a game-related newsletter, and how do these features differ between various player types?"
   ]
  },
  {
   "cell_type": "markdown",
   "id": "4408e2a2-60d5-4b4a-8a5d-81e93503d8bc",
   "metadata": {},
   "source": [
    "**Specific question**: Can experience, played_hours, gender, and age predict the subscribe variable (if a player subscribes to the newsletter or not) in players_data dataset?"
   ]
  },
  {
   "cell_type": "markdown",
   "id": "29d14cd9-cbb8-421f-bd20-5345fd571ae5",
   "metadata": {},
   "source": [
    "This data will help me address my question since I will be able to analyze the relationships between the explanatory variable and the response variable using the data and various methods like linear regression or knn. I will first wrangle the data to impute any NA values by filling them in with the median."
   ]
  },
  {
   "cell_type": "markdown",
   "id": "0c6120f6-19c9-4700-b3e1-80f29a4fa691",
   "metadata": {},
   "source": [
    "<br><br>"
   ]
  },
  {
   "cell_type": "markdown",
   "id": "da906b92-168d-44ca-91a2-4a4686fe806a",
   "metadata": {},
   "source": [
    "<h2>3. Exploratory Data Analysis and Visualization</h2>"
   ]
  },
  {
   "cell_type": "markdown",
   "id": "dd0562b1-f2b8-45a4-a66c-8bcf7d20cc3a",
   "metadata": {},
   "source": [
    "I do not think the sessions dataset will be useful to my predictions and I am not using any variables from that dataset in my question. Therefore, I will not be wrangling or exploring the second dataset in this section."
   ]
  },
  {
   "cell_type": "markdown",
   "id": "8332e288-2453-4504-a05e-665450439e66",
   "metadata": {},
   "source": [
    "**Mean values for quantitative variables in players.csv:**"
   ]
  },
  {
   "cell_type": "code",
   "execution_count": null,
   "id": "72301f3f-54ae-464b-99f3-fd8bf06c1ab1",
   "metadata": {},
   "outputs": [],
   "source": [
    "players_quantitative_data <- select(players_data, played_hours, Age)\n",
    "summary(players_quantitative_data)"
   ]
  },
  {
   "cell_type": "markdown",
   "id": "702a1e4b-c479-4998-bcb0-5dd3a9bb2859",
   "metadata": {},
   "source": [
    "**Mean values of quantitative variables in players.csv dataset:**\n",
    "\n",
    "| Column       | Mean    | \n",
    "|-------------|---------|\n",
    "| played_hours | 5.846  | \n",
    "| Age         | 20.52  |"
   ]
  },
  {
   "cell_type": "markdown",
   "id": "939d38d7-60a9-413d-a5e6-8bb7b1aece6d",
   "metadata": {},
   "source": [
    "<br>"
   ]
  },
  {
   "cell_type": "markdown",
   "id": "f7ce4f86-8903-40ae-bd72-8fbf0f6c5726",
   "metadata": {},
   "source": [
    "<h3>Visualizations</h3>"
   ]
  },
  {
   "cell_type": "code",
   "execution_count": null,
   "id": "57ed9a13-1afe-464a-af06-80e8e433f355",
   "metadata": {},
   "outputs": [],
   "source": [
    "ggplot(players_data, aes(x = experience, fill = as.factor(subscribe))) +\n",
    "  geom_bar(position = \"dodge\") +\n",
    "  labs(title = \"Subscription Count by Experience Level\",\n",
    "       x = \"Experience Level\",\n",
    "       y = \"Count\",\n",
    "       fill = \"Subscribed\")"
   ]
  },
  {
   "cell_type": "code",
   "execution_count": null,
   "id": "74ebcc2c-2bb3-4202-923f-88efcee8a33c",
   "metadata": {},
   "outputs": [],
   "source": [
    "ggplot(players_data, aes(x = gender, fill = as.factor(subscribe))) +\n",
    "  geom_bar(position = \"dodge\") +\n",
    "  labs(title = \"Subscription Count by Gender\",\n",
    "       x = \"Gender\",\n",
    "       y = \"Count\",\n",
    "       fill = \"Subscribed\")"
   ]
  },
  {
   "cell_type": "code",
   "execution_count": null,
   "id": "98aa569b-7cd3-4448-bde0-c7730ccccf51",
   "metadata": {},
   "outputs": [],
   "source": [
    "played_hours_scatterplot <- ggplot(players_data, aes(x = played_hours, y = subscribe)) +\n",
    "\tgeom_point(alpha = 0.3) + \n",
    "\tlabs(title = \"Subscribtion vs Play Time (hrs)\",\n",
    "       x = \"Play time (hours)\",\n",
    "       y = \"is Subscribed\") \n",
    "\n",
    "played_hours_scatterplot"
   ]
  },
  {
   "cell_type": "markdown",
   "id": "a39123d4-9bde-43d6-8271-2e1f1d80c66b",
   "metadata": {},
   "source": [
    "<br><br>"
   ]
  },
  {
   "cell_type": "markdown",
   "id": "481664d8-7b19-495a-b452-e6ce19b1561b",
   "metadata": {},
   "source": [
    "<h2>4. Methods and Plan</h2>"
   ]
  },
  {
   "cell_type": "markdown",
   "id": "8d7dc4a4-90cf-43bd-9f3b-ecaacfe888e5",
   "metadata": {},
   "source": [
    "<h3>Proposed Method: K-Nearest-Neighbors (KNN)</h3>"
   ]
  },
  {
   "cell_type": "markdown",
   "id": "dbfe9404-fcc8-4b0d-b709-5a00df519c3a",
   "metadata": {},
   "source": [
    "**I will use KNN because:**\n",
    "- it doesn't require the relationship between variables to be linear unlike linear/logistic regression\n",
    "- It works well when the dimensionality of the data isn't high\n",
    "\n",
    "**Assumptions:**\n",
    "- data is sufficiently large enough for KNN to have enough neighbors to compare a new data point to\n",
    "- data will be scaled (this will be done in the next part of the project)\n",
    "- no irrelevant features (this will skew distance calculation)\n",
    "\n",
    "**Weaknesses:**\n",
    "- irrelevant features can skew prediction\n",
    "- highly unbalanced dataset can skew prediction\n",
    "- less interpretable compared to linear models\n",
    "\n",
    "**Model selection and cross val**\n",
    "- I will first split the data to 80% training 20% test because the dataset is small so I would like more data points for training.\n",
    "- I will do cross validation with the training and validation set in order to find the best hyperparameter k.\n",
    "- I will use the best k in my final KNN model.\n"
   ]
  },
  {
   "cell_type": "code",
   "execution_count": null,
   "id": "dd2fe419-5b76-4d8a-b41c-036e30705bae",
   "metadata": {},
   "outputs": [],
   "source": []
  }
 ],
 "metadata": {
  "kernelspec": {
   "display_name": "R",
   "language": "R",
   "name": "ir"
  },
  "language_info": {
   "codemirror_mode": "r",
   "file_extension": ".r",
   "mimetype": "text/x-r-source",
   "name": "R",
   "pygments_lexer": "r",
   "version": "4.3.3"
  }
 },
 "nbformat": 4,
 "nbformat_minor": 5
}
